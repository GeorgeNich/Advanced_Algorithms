{
 "cells": [
  {
   "cell_type": "markdown",
   "id": "complex-ideal",
   "metadata": {},
   "source": [
    "# Dynamic Programming"
   ]
  },
  {
   "cell_type": "markdown",
   "id": "dynamic-hearing",
   "metadata": {},
   "source": [
    "Lab associated with Module 4a: Dynamic Programming"
   ]
  },
  {
   "cell_type": "markdown",
   "id": "reliable-thomson",
   "metadata": {},
   "source": [
    "***"
   ]
  },
  {
   "cell_type": "code",
   "execution_count": 1,
   "id": "unknown-effort",
   "metadata": {},
   "outputs": [
    {
     "data": {
      "text/html": [
       "<style>.container { width:95% !important; }</style>"
      ],
      "text/plain": [
       "<IPython.core.display.HTML object>"
      ]
     },
     "metadata": {},
     "output_type": "display_data"
    }
   ],
   "source": [
    "# The following lines are used to increase the width of cells to utilize more space on the screen \n",
    "from IPython.core.display import display, HTML\n",
    "display(HTML(\"<style>.container { width:95% !important; }</style>\"))"
   ]
  },
  {
   "cell_type": "markdown",
   "id": "civilian-racing",
   "metadata": {},
   "source": [
    "***"
   ]
  },
  {
   "cell_type": "markdown",
   "id": "moving-violence",
   "metadata": {},
   "source": [
    "### Section 0: Imports"
   ]
  },
  {
   "cell_type": "code",
   "execution_count": 2,
   "id": "familiar-letters",
   "metadata": {},
   "outputs": [],
   "source": [
    "import numpy as np"
   ]
  },
  {
   "cell_type": "code",
   "execution_count": 3,
   "id": "recovered-literacy",
   "metadata": {},
   "outputs": [],
   "source": [
    "import math"
   ]
  },
  {
   "cell_type": "code",
   "execution_count": 4,
   "id": "multiple-chair",
   "metadata": {},
   "outputs": [],
   "source": [
    "from IPython.display import Image\n",
    "from graphviz import Digraph"
   ]
  },
  {
   "cell_type": "markdown",
   "id": "hungarian-sentence",
   "metadata": {},
   "source": [
    "Details of Digraph package: https://h1ros.github.io/posts/introduction-to-graphviz-in-jupyter-notebook/"
   ]
  },
  {
   "cell_type": "markdown",
   "id": "anonymous-sphere",
   "metadata": {},
   "source": [
    "***"
   ]
  },
  {
   "cell_type": "markdown",
   "id": "fiscal-video",
   "metadata": {},
   "source": [
    "### <font color='red'> Section 1: Write the code for finding the Longest Common Sub-sequence. Make sure you output the Matrix C and the longest sub-sequence. Test your code with various use-cases. </font>"
   ]
  },
  {
   "cell_type": "code",
   "execution_count": 5,
   "id": "developed-pharmacy",
   "metadata": {},
   "outputs": [
    {
     "name": "stdout",
     "output_type": "stream",
     "text": [
      "Length of LCS is  5\n"
     ]
    }
   ],
   "source": [
    "# https://www.geeksforgeeks.org/python-program-for-longest-common-subsequence/\n",
    "# Dynamic Programming implementation of LCS problem\n",
    " \n",
    "def lcs(X, Y):\n",
    "    # find the length of the strings\n",
    "    m = len(X)\n",
    "    n = len(Y)\n",
    " \n",
    "    # declaring the array for storing the dp values\n",
    "    L = [[None]*(n + 1) for i in range(m + 1)]\n",
    " \n",
    "    \"\"\"Following steps build L[m + 1][n + 1] in bottom up fashion\n",
    "    Note: L[i][j] contains length of LCS of X[0..i-1]\n",
    "    and Y[0..j-1]\"\"\"\n",
    "    for i in range(m + 1):\n",
    "        for j in range(n + 1):\n",
    "            if i == 0 or j == 0 :\n",
    "                L[i][j] = 0\n",
    "            elif X[i-1] == Y[j-1]:\n",
    "                L[i][j] = L[i-1][j-1]+1\n",
    "            else:\n",
    "                L[i][j] = max(L[i-1][j], L[i][j-1])\n",
    " \n",
    "    # L[m][n] contains the length of LCS of X[0..n-1] & Y[0..m-1]\n",
    "    return L[m][n]\n",
    "# end of function lcs\n",
    " \n",
    " \n",
    "# Driver program to test the above function\n",
    "X = \"AGGTARRB\"\n",
    "Y = \"GXTXARYB\"\n",
    "print(\"Length of LCS is \", lcs(X, Y))\n",
    " \n",
    "\n",
    "\n"
   ]
  },
  {
   "cell_type": "markdown",
   "id": "developed-crest",
   "metadata": {},
   "source": [
    "***"
   ]
  },
  {
   "cell_type": "markdown",
   "id": "subject-annual",
   "metadata": {},
   "source": [
    "***"
   ]
  },
  {
   "cell_type": "markdown",
   "id": "enormous-bishop",
   "metadata": {},
   "source": [
    "### Section 2: Unbounded Knapsack Problem"
   ]
  },
  {
   "cell_type": "markdown",
   "id": "grand-decision",
   "metadata": {},
   "source": [
    "Let us build a solution to unbounded Knapsack problem."
   ]
  },
  {
   "cell_type": "code",
   "execution_count": 6,
   "id": "connected-sustainability",
   "metadata": {},
   "outputs": [],
   "source": [
    "def unboundedKnapsack(W, n, wt, vals, names):\n",
    " \n",
    "    K = [0 for i in range(W + 1)]\n",
    "    ITEMS = [[] for i in range(W + 1)]\n",
    " \n",
    "    for x in range(1, W + 1):\n",
    "        K[x] = 0\n",
    "        for i in range(1, n):\n",
    "            \n",
    "            prev_k = K[x]\n",
    "            \n",
    "            if (wt[i] <= x):\n",
    "                K[x] = max(K[x], K[x - wt[i]] + vals[i])\n",
    "                \n",
    "            if K[x] != prev_k:\n",
    "                ITEMS[x] = ITEMS[x - wt[i]] + names[i]\n",
    "                \n",
    " \n",
    "    return K[W], ITEMS[W]"
   ]
  },
  {
   "cell_type": "code",
   "execution_count": 7,
   "id": "tropical-catalyst",
   "metadata": {},
   "outputs": [
    {
     "name": "stdout",
     "output_type": "stream",
     "text": [
      "We have 3 items\n"
     ]
    }
   ],
   "source": [
    "W = 4\n",
    "wt = [1, 2, 3]\n",
    "vals = [1, 4, 6]\n",
    "names = [[\"Turtle\"], [\"Globe\"], [\"WaterMelon\"]]\n",
    "\n",
    "n = len(names)\n",
    "\n",
    "print('We have {} items'.format(n))                "
   ]
  },
  {
   "cell_type": "code",
   "execution_count": 8,
   "id": "noble-wayne",
   "metadata": {},
   "outputs": [],
   "source": [
    "K, ITEMS = unboundedKnapsack(W, n, wt, vals, names)"
   ]
  },
  {
   "cell_type": "code",
   "execution_count": 9,
   "id": "english-property",
   "metadata": {},
   "outputs": [
    {
     "data": {
      "text/plain": [
       "['Globe', 'Globe']"
      ]
     },
     "execution_count": 9,
     "metadata": {},
     "output_type": "execute_result"
    }
   ],
   "source": [
    "ITEMS"
   ]
  },
  {
   "cell_type": "code",
   "execution_count": 10,
   "id": "moderate-orbit",
   "metadata": {},
   "outputs": [
    {
     "name": "stdout",
     "output_type": "stream",
     "text": [
      "We have 5 items\n",
      "330 ['Parrot', 'Parrot', 'Parrot', 'Parrot', 'Parrot', 'Parrot', 'Parrot', 'Parrot', 'Parrot', 'Parrot']\n"
     ]
    }
   ],
   "source": [
    "# ------------------------------\n",
    "# Code Reflections\n",
    "# ------------------------------\n",
    "W = 10\n",
    "wt = [6, 2, 4, 3, 1]\n",
    "vals = [22, 6, 13, 14, 33]\n",
    "names = [[\"Kangaroo\"], [\"Europe\"], [\"Bannana\"], [\"Water\"], [\"Parrot\"]]\n",
    "\n",
    "n = len(names)\n",
    "\n",
    "print('We have {} items'.format(n))\n",
    "K, ITEMS = unboundedKnapsack(W, n, wt, vals, names)\n",
    "print(K, ITEMS)\n",
    "\n",
    "\n"
   ]
  },
  {
   "cell_type": "markdown",
   "id": "divine-glossary",
   "metadata": {},
   "source": [
    "***"
   ]
  },
  {
   "cell_type": "markdown",
   "id": "induced-papua",
   "metadata": {},
   "source": [
    "### <font color='red'> Section 3: In the earlier activity, you analysed the code for unbounded knapsack. Based on the algorithm discussed in this section, implement an solution to do 0/1 Knapsack. Make sure you test your algorithms for various test-cases. </font>"
   ]
  },
  {
   "cell_type": "code",
   "execution_count": 11,
   "id": "floral-reggae",
   "metadata": {},
   "outputs": [],
   "source": [
    "def oiKnapsack(capacity, n, weight, values, names):\n",
    "    knapsack = [[0 for i in range(n)] for _ in range(capacity + 1)]\n",
    "    Item = [[[] for _ in range(n)] for i in range(capacity + 1)]\n",
    "    for element in range(capacity + 1):\n",
    "        if (element >= weight[0]):\n",
    "            knapsack[element][0] = values[0]\n",
    "            Item[element][0] += names[0]\n",
    "\n",
    "    for element in range(1, capacity + 1):\n",
    "        for i in range(1, n):\n",
    "            knapsack[element][i] = knapsack[element][i - 1]\n",
    "            prev_k = knapsack[element][i]\n",
    "\n",
    "            if (weight[i] <= element):\n",
    "                knapsack[element][i] = max(knapsack[element][i], knapsack[element - weight[i]][i - 1] + values[i])\n",
    "\n",
    "            if knapsack[element][i] != prev_k:\n",
    "                Item[element][i] = Item[element - weight[i]][i - 1] + names[i]\n",
    "            else:\n",
    "                Item[element][i] = Item[element][i - 1]\n",
    "\n",
    "    return knapsack[capacity][n - 1], Item[capacity][n - 1]\n"
   ]
  },
  {
   "cell_type": "markdown",
   "id": "asian-garbage",
   "metadata": {},
   "source": [
    "Class Room Test-case"
   ]
  },
  {
   "cell_type": "code",
   "execution_count": 12,
   "id": "earned-sierra",
   "metadata": {},
   "outputs": [
    {
     "name": "stdout",
     "output_type": "stream",
     "text": [
      "We have 3 items\n"
     ]
    }
   ],
   "source": [
    "capacity = 4\n",
    "weight = [1, 2, 3]\n",
    "values = [1, 4, 6]\n",
    "names = [[\"Turtle\"], [\"Globe\"], [\"WaterMelon\"]]\n",
    "\n",
    "n = len(names)\n",
    "\n",
    "print('We have {} items'.format(n))"
   ]
  },
  {
   "cell_type": "code",
   "execution_count": 13,
   "id": "periodic-absolute",
   "metadata": {},
   "outputs": [],
   "source": [
    "knapsack, Item = oiKnapsack(capacity, n, weight, values, names)\n"
   ]
  },
  {
   "cell_type": "code",
   "execution_count": 14,
   "id": "ae446868",
   "metadata": {},
   "outputs": [
    {
     "name": "stdout",
     "output_type": "stream",
     "text": [
      "7\n",
      "['Turtle', 'WaterMelon']\n"
     ]
    }
   ],
   "source": [
    "print(knapsack)\n",
    "print(Item)"
   ]
  },
  {
   "cell_type": "markdown",
   "id": "emerging-green",
   "metadata": {},
   "source": [
    "***"
   ]
  },
  {
   "cell_type": "markdown",
   "id": "stainless-visitor",
   "metadata": {},
   "source": [
    "***"
   ]
  }
 ],
 "metadata": {
  "kernelspec": {
   "display_name": "Python 3 (ipykernel)",
   "language": "python",
   "name": "python3"
  },
  "language_info": {
   "codemirror_mode": {
    "name": "ipython",
    "version": 3
   },
   "file_extension": ".py",
   "mimetype": "text/x-python",
   "name": "python",
   "nbconvert_exporter": "python",
   "pygments_lexer": "ipython3",
   "version": "3.9.7"
  }
 },
 "nbformat": 4,
 "nbformat_minor": 5
}
