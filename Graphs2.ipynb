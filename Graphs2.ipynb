{
 "cells": [
  {
   "cell_type": "markdown",
   "id": "imposed-playlist",
   "metadata": {},
   "source": [
    "# Graphs II"
   ]
  },
  {
   "cell_type": "markdown",
   "id": "d97cce87",
   "metadata": {},
   "source": [
    "Lab associated with Module 3b: Graphs II"
   ]
  },
  {
   "cell_type": "markdown",
   "id": "5c7f2e9d",
   "metadata": {},
   "source": [
    "***"
   ]
  },
  {
   "cell_type": "code",
   "execution_count": 1,
   "id": "5b495ad0",
   "metadata": {},
   "outputs": [
    {
     "data": {
      "text/html": [
       "<style>.container { width:95% !important; }</style>"
      ],
      "text/plain": [
       "<IPython.core.display.HTML object>"
      ]
     },
     "metadata": {},
     "output_type": "display_data"
    }
   ],
   "source": [
    "# The following lines are used to increase the width of cells to utilize more space on the screen \n",
    "from IPython.core.display import display, HTML\n",
    "display(HTML(\"<style>.container { width:95% !important; }</style>\"))"
   ]
  },
  {
   "cell_type": "markdown",
   "id": "3a2b855c",
   "metadata": {},
   "source": [
    "***"
   ]
  },
  {
   "cell_type": "markdown",
   "id": "9d0921a0",
   "metadata": {},
   "source": [
    "### Section 0: Imports"
   ]
  },
  {
   "cell_type": "code",
   "execution_count": 2,
   "id": "477622d5",
   "metadata": {},
   "outputs": [],
   "source": [
    "import numpy as np"
   ]
  },
  {
   "cell_type": "code",
   "execution_count": 3,
   "id": "50fb5ed5",
   "metadata": {},
   "outputs": [],
   "source": [
    "import math"
   ]
  },
  {
   "cell_type": "code",
   "execution_count": 4,
   "id": "965de108",
   "metadata": {},
   "outputs": [],
   "source": [
    "from IPython.display import Image\n",
    "from graphviz import Digraph"
   ]
  },
  {
   "cell_type": "markdown",
   "id": "214d69eb",
   "metadata": {},
   "source": [
    "Details of Digraph package: https://h1ros.github.io/posts/introduction-to-graphviz-in-jupyter-notebook/"
   ]
  },
  {
   "cell_type": "markdown",
   "id": "7f9321f8",
   "metadata": {},
   "source": [
    "***"
   ]
  },
  {
   "cell_type": "markdown",
   "id": "317d9bca",
   "metadata": {},
   "source": [
    "### Section 1: Graph Preliminaries"
   ]
  },
  {
   "cell_type": "markdown",
   "id": "cc820c0e",
   "metadata": {},
   "source": [
    "Let us start by implementing our Node and Graph data structure to incorporate weights in the graph"
   ]
  },
  {
   "cell_type": "code",
   "execution_count": 5,
   "id": "d8e6550f",
   "metadata": {},
   "outputs": [],
   "source": [
    "class Node:\n",
    "    \n",
    "    def __init__(self, v):\n",
    "\n",
    "        self.value = v\n",
    "        self.inNeighbors = []\n",
    "        self.outNeighbors = []\n",
    "        \n",
    "        self.status = \"unvisited\"\n",
    "        self.estD = np.inf\n",
    "        \n",
    "    def hasOutNeighbor(self, v):\n",
    "        \n",
    "        if v in self.outNeighbors:\n",
    "            return True\n",
    "        \n",
    "        return False\n",
    "        \n",
    "    def hasInNeighbor(self, v):\n",
    "        \n",
    "        if v in self.inNeighbors:\n",
    "            return True\n",
    "        \n",
    "        return False\n",
    "    \n",
    "    def hasNeighbor(self, v):\n",
    "        \n",
    "        if v in self.inNeighbors or v in self.outNeighbors:\n",
    "            return True\n",
    "        \n",
    "        return False\n",
    "    \n",
    "    def getOutNeighbors(self):\n",
    "        \n",
    "        return self.outNeighbors\n",
    "    \n",
    "    def getInNeighbors(self):\n",
    "        \n",
    "        return self.inNeighbors\n",
    "    \n",
    "    def getOutNeighborsWithWeights(self):\n",
    "        \n",
    "        return self.outNeighbors\n",
    "    \n",
    "    def getInNeighborsWithWeights(self):\n",
    "        \n",
    "        return self.inNeighbors\n",
    "    \n",
    "    # ------------------------------------------------\n",
    "    # Let us modify following two functions to incorporate weights\n",
    "    # ------------------------------------------------\n",
    "    \n",
    "    def addOutNeighbor(self,v,wt):\n",
    "        \n",
    "        self.outNeighbors.append((v,wt))\n",
    "    \n",
    "    def addInNeighbor(self,v,wt):\n",
    "        \n",
    "        self.inNeighbors.append((v,wt))\n",
    "        \n",
    "        \n",
    "    def __str__(self):\n",
    "        \n",
    "        return str(self.value) "
   ]
  },
  {
   "cell_type": "code",
   "execution_count": 6,
   "id": "30ab4c32",
   "metadata": {},
   "outputs": [],
   "source": [
    "class Graph:\n",
    "    \n",
    "    def __init__(self):\n",
    "        \n",
    "        self.vertices = []\n",
    "\n",
    "    def addVertex(self,n):\n",
    "        \n",
    "        self.vertices.append(n)\n",
    "        \n",
    "    # ------------------------------------------------\n",
    "    # Let us modify following two functions to incorporate weights\n",
    "    # ------------------------------------------------\n",
    "        \n",
    "    def addDiEdge(self, u, v, wt = 1):\n",
    "        \n",
    "        u.addOutNeighbor(v, wt = wt)\n",
    "        v.addInNeighbor(u, wt = wt)\n",
    "        \n",
    "    # add edges in both directions between u and v\n",
    "    def addBiEdge(self, u, v, wt = 1):\n",
    "        \n",
    "        self.addDiEdge(u, v, wt = wt)\n",
    "        self.addDiEdge(v, u, wt = wt)\n",
    "        \n",
    "            \n",
    "    # get a list of all the directed edges\n",
    "    # directed edges are a list of two vertices\n",
    "    def getDirEdges(self):\n",
    "        \n",
    "        ret = []\n",
    "        for v in self.vertices:\n",
    "            ret += [ [v, u] for u in v.outNeighbors ]\n",
    "        return ret\n",
    "    \n",
    "    # reverse the edge between u and v.  Multiple edges are not supported.\n",
    "    def reverseEdge(self,u,v):\n",
    "        \n",
    "        if u.hasOutNeighbor(v) and v.hasInNeighbor(u):\n",
    "            \n",
    "            if v.hasOutNeighbor(u) and u.hasInNeighbor(v): \n",
    "                return\n",
    "        \n",
    "            self.addDiEdge(v, u)\n",
    "            u.outNeighbors.remove(v)\n",
    "            v.inNeighbors.remove(u)        \n",
    "                \n",
    "    def __str__(self):\n",
    "        \n",
    "        ret = \"Graph with:\\n\"\n",
    "        ret += \"\\t Vertices:\\n\\t\"\n",
    "        for v in self.vertices:\n",
    "            ret += str(v) + \",\"\n",
    "        ret += \"\\n\"\n",
    "        ret += \"\\t Edges:\\n\\t\"\n",
    "        for a,b in self.getDirEdges():\n",
    "            ret += \"(\" + str(a) + \",\" + str(b) + \") \"\n",
    "        ret += \"\\n\"\n",
    "        return ret"
   ]
  },
  {
   "cell_type": "markdown",
   "id": "7afa81de",
   "metadata": {},
   "source": [
    "Now that we have incorporated the weights, let us devise a plan to generate the graph"
   ]
  },
  {
   "cell_type": "code",
   "execution_count": 7,
   "id": "d3a8a344",
   "metadata": {},
   "outputs": [
    {
     "data": {
      "image/svg+xml": [
       "<?xml version=\"1.0\" encoding=\"UTF-8\" standalone=\"no\"?>\n",
       "<!DOCTYPE svg PUBLIC \"-//W3C//DTD SVG 1.1//EN\"\n",
       " \"http://www.w3.org/Graphics/SVG/1.1/DTD/svg11.dtd\">\n",
       "<!-- Generated by graphviz version 2.50.0 (0)\n",
       " -->\n",
       "<!-- Pages: 1 -->\n",
       "<svg width=\"117pt\" height=\"404pt\"\n",
       " viewBox=\"0.00 0.00 117.00 404.00\" xmlns=\"http://www.w3.org/2000/svg\" xmlns:xlink=\"http://www.w3.org/1999/xlink\">\n",
       "<g id=\"graph0\" class=\"graph\" transform=\"scale(1 1) rotate(0) translate(4 400)\">\n",
       "<polygon fill=\"white\" stroke=\"transparent\" points=\"-4,4 -4,-400 113,-400 113,4 -4,4\"/>\n",
       "<!-- S -->\n",
       "<g id=\"node1\" class=\"node\">\n",
       "<title>S</title>\n",
       "<ellipse fill=\"none\" stroke=\"black\" cx=\"54\" cy=\"-378\" rx=\"27\" ry=\"18\"/>\n",
       "<text text-anchor=\"middle\" x=\"54\" y=\"-374.3\" font-family=\"Times New Roman,serif\" font-size=\"14.00\">S</text>\n",
       "</g>\n",
       "<!-- E -->\n",
       "<g id=\"node2\" class=\"node\">\n",
       "<title>E</title>\n",
       "<ellipse fill=\"none\" stroke=\"black\" cx=\"27\" cy=\"-306\" rx=\"27\" ry=\"18\"/>\n",
       "<text text-anchor=\"middle\" x=\"27\" y=\"-302.3\" font-family=\"Times New Roman,serif\" font-size=\"14.00\">E</text>\n",
       "</g>\n",
       "<!-- S&#45;&gt;E -->\n",
       "<g id=\"edge1\" class=\"edge\">\n",
       "<title>S&#45;&gt;E</title>\n",
       "<path fill=\"none\" stroke=\"black\" d=\"M47.6,-360.41C44.49,-352.34 40.67,-342.43 37.17,-333.35\"/>\n",
       "<polygon fill=\"black\" stroke=\"black\" points=\"40.4,-332.03 33.54,-323.96 33.87,-334.55 40.4,-332.03\"/>\n",
       "</g>\n",
       "<!-- A -->\n",
       "<g id=\"node3\" class=\"node\">\n",
       "<title>A</title>\n",
       "<ellipse fill=\"none\" stroke=\"black\" cx=\"82\" cy=\"-162\" rx=\"27\" ry=\"18\"/>\n",
       "<text text-anchor=\"middle\" x=\"82\" y=\"-158.3\" font-family=\"Times New Roman,serif\" font-size=\"14.00\">A</text>\n",
       "</g>\n",
       "<!-- S&#45;&gt;A -->\n",
       "<g id=\"edge2\" class=\"edge\">\n",
       "<title>S&#45;&gt;A</title>\n",
       "<path fill=\"none\" stroke=\"black\" d=\"M57.14,-359.85C58.98,-349.49 61.27,-336.01 63,-324 69.73,-277.2 75.81,-222.48 79.19,-190.4\"/>\n",
       "<polygon fill=\"black\" stroke=\"black\" points=\"82.68,-190.74 80.24,-180.43 75.72,-190.01 82.68,-190.74\"/>\n",
       "</g>\n",
       "<!-- D -->\n",
       "<g id=\"node4\" class=\"node\">\n",
       "<title>D</title>\n",
       "<ellipse fill=\"none\" stroke=\"black\" cx=\"27\" cy=\"-234\" rx=\"27\" ry=\"18\"/>\n",
       "<text text-anchor=\"middle\" x=\"27\" y=\"-230.3\" font-family=\"Times New Roman,serif\" font-size=\"14.00\">D</text>\n",
       "</g>\n",
       "<!-- E&#45;&gt;D -->\n",
       "<g id=\"edge3\" class=\"edge\">\n",
       "<title>E&#45;&gt;D</title>\n",
       "<path fill=\"none\" stroke=\"black\" d=\"M27,-287.7C27,-279.98 27,-270.71 27,-262.11\"/>\n",
       "<polygon fill=\"black\" stroke=\"black\" points=\"30.5,-262.1 27,-252.1 23.5,-262.1 30.5,-262.1\"/>\n",
       "</g>\n",
       "<!-- C -->\n",
       "<g id=\"node5\" class=\"node\">\n",
       "<title>C</title>\n",
       "<ellipse fill=\"none\" stroke=\"black\" cx=\"27\" cy=\"-90\" rx=\"27\" ry=\"18\"/>\n",
       "<text text-anchor=\"middle\" x=\"27\" y=\"-86.3\" font-family=\"Times New Roman,serif\" font-size=\"14.00\">C</text>\n",
       "</g>\n",
       "<!-- A&#45;&gt;C -->\n",
       "<g id=\"edge5\" class=\"edge\">\n",
       "<title>A&#45;&gt;C</title>\n",
       "<path fill=\"none\" stroke=\"black\" d=\"M70.07,-145.81C62.79,-136.55 53.34,-124.52 45.15,-114.09\"/>\n",
       "<polygon fill=\"black\" stroke=\"black\" points=\"47.84,-111.86 38.91,-106.16 42.34,-116.18 47.84,-111.86\"/>\n",
       "</g>\n",
       "<!-- D&#45;&gt;A -->\n",
       "<g id=\"edge4\" class=\"edge\">\n",
       "<title>D&#45;&gt;A</title>\n",
       "<path fill=\"none\" stroke=\"black\" d=\"M38.93,-217.81C46.21,-208.55 55.66,-196.52 63.85,-186.09\"/>\n",
       "<polygon fill=\"black\" stroke=\"black\" points=\"66.66,-188.18 70.09,-178.16 61.16,-183.86 66.66,-188.18\"/>\n",
       "</g>\n",
       "<!-- D&#45;&gt;C -->\n",
       "<g id=\"edge7\" class=\"edge\">\n",
       "<title>D&#45;&gt;C</title>\n",
       "<path fill=\"none\" stroke=\"black\" d=\"M27,-215.87C27,-191.67 27,-147.21 27,-118.39\"/>\n",
       "<polygon fill=\"black\" stroke=\"black\" points=\"30.5,-118.19 27,-108.19 23.5,-118.19 30.5,-118.19\"/>\n",
       "</g>\n",
       "<!-- B -->\n",
       "<g id=\"node6\" class=\"node\">\n",
       "<title>B</title>\n",
       "<ellipse fill=\"none\" stroke=\"black\" cx=\"54\" cy=\"-18\" rx=\"27\" ry=\"18\"/>\n",
       "<text text-anchor=\"middle\" x=\"54\" y=\"-14.3\" font-family=\"Times New Roman,serif\" font-size=\"14.00\">B</text>\n",
       "</g>\n",
       "<!-- C&#45;&gt;B -->\n",
       "<g id=\"edge8\" class=\"edge\">\n",
       "<title>C&#45;&gt;B</title>\n",
       "<path fill=\"none\" stroke=\"black\" d=\"M33.4,-72.41C36.51,-64.34 40.33,-54.43 43.83,-45.35\"/>\n",
       "<polygon fill=\"black\" stroke=\"black\" points=\"47.13,-46.55 47.46,-35.96 40.6,-44.03 47.13,-46.55\"/>\n",
       "</g>\n",
       "<!-- B&#45;&gt;A -->\n",
       "<g id=\"edge6\" class=\"edge\">\n",
       "<title>B&#45;&gt;A</title>\n",
       "<path fill=\"none\" stroke=\"black\" d=\"M57.39,-36.19C62.19,-60.53 71.01,-105.28 76.69,-134.06\"/>\n",
       "<polygon fill=\"black\" stroke=\"black\" points=\"73.25,-134.74 78.62,-143.87 80.12,-133.38 73.25,-134.74\"/>\n",
       "</g>\n",
       "</g>\n",
       "</svg>\n"
      ],
      "text/plain": [
       "<graphviz.graphs.Digraph at 0x1e3d84eeb80>"
      ]
     },
     "execution_count": 7,
     "metadata": {},
     "output_type": "execute_result"
    }
   ],
   "source": [
    "dot = Digraph()\n",
    "\n",
    "dot.edge('S', 'E')\n",
    "dot.edge('S', 'A')\n",
    "dot.edge('E', 'D')\n",
    "dot.edge('D', 'A')\n",
    "dot.edge('A', 'C')\n",
    "dot.edge('B', 'A')\n",
    "dot.edge('D', 'C')\n",
    "dot.edge('C', 'B')\n",
    "\n",
    "#dot.view()\n",
    "dot"
   ]
  },
  {
   "cell_type": "code",
   "execution_count": null,
   "id": "90237e9f",
   "metadata": {},
   "outputs": [],
   "source": []
  },
  {
   "cell_type": "code",
   "execution_count": 8,
   "id": "e2160adc",
   "metadata": {},
   "outputs": [
    {
     "name": "stdout",
     "output_type": "stream",
     "text": [
      "Graph with:\n",
      "\t Vertices:\n",
      "\tS,E,A,D,B,C,\n",
      "\t Edges:\n",
      "\t(S,(<__main__.Node object at 0x000001E3D84D53D0>, 8)) (S,(<__main__.Node object at 0x000001E3D84D5400>, 10)) (E,(<__main__.Node object at 0x000001E3D84D5100>, 1)) (A,(<__main__.Node object at 0x000001E3D84D5E20>, 2)) (D,(<__main__.Node object at 0x000001E3D84D5400>, 2)) (D,(<__main__.Node object at 0x000001E3D84D5E20>, 8)) (B,(<__main__.Node object at 0x000001E3D84D5400>, 1)) (C,(<__main__.Node object at 0x000001E3D84D5700>, 4)) \n",
      "\n"
     ]
    }
   ],
   "source": [
    "G = Graph()\n",
    "#for i in ['0', '1', '2', '3', '4', '5']:\n",
    "for i in ['S', 'E', 'A', 'D', 'B', 'C']:\n",
    "    G.addVertex( Node(i) )\n",
    "\n",
    "V = G.vertices\n",
    "\n",
    "#dot.edge('S', 'E')\n",
    "G.addDiEdge( V[0], V[1], 8)\n",
    "\n",
    "#dot.edge('S', 'A')\n",
    "G.addDiEdge( V[0], V[2] , 10)\n",
    "\n",
    "#dot.edge('E', 'D')\n",
    "G.addDiEdge( V[1], V[3], 1)\n",
    "\n",
    "#dot.edge('D', 'A')\n",
    "G.addDiEdge( V[3], V[2], 2)\n",
    "\n",
    "#dot.edge('A', 'C')\n",
    "G.addDiEdge( V[2], V[5], 2)\n",
    "\n",
    "#dot.edge('B', 'A')\n",
    "G.addDiEdge( V[4], V[2], 1 )\n",
    "\n",
    "#dot.edge('D', 'C')\n",
    "G.addDiEdge( V[3], V[5], 8)\n",
    "\n",
    "#dot.edge('C', 'B')\n",
    "G.addDiEdge( V[5], V[4], 4 )\n",
    "\n",
    "print(G)"
   ]
  },
  {
   "cell_type": "markdown",
   "id": "8fcbaefb",
   "metadata": {},
   "source": [
    "Second Example"
   ]
  },
  {
   "cell_type": "code",
   "execution_count": 9,
   "id": "dd4d197d",
   "metadata": {},
   "outputs": [],
   "source": [
    "G = Graph()\n",
    "#for i in ['0', '1', '2', '3', '4', '5']:\n",
    "for i in ['S', 'A', 'B']:\n",
    "    G.addVertex( Node(i) )\n",
    "    \n",
    "V = G.vertices\n",
    "\n",
    "G.addDiEdge( V[0], V[1], 3)\n",
    "\n",
    "G.addDiEdge( V[0], V[2] , 4)\n",
    "\n",
    "G.addDiEdge( V[2], V[1], -2)"
   ]
  },
  {
   "cell_type": "code",
   "execution_count": 10,
   "id": "fb865755",
   "metadata": {},
   "outputs": [
    {
     "name": "stdout",
     "output_type": "stream",
     "text": [
      "Graph with:\n",
      "\t Vertices:\n",
      "\tS,A,B,\n",
      "\t Edges:\n",
      "\t(S,(<__main__.Node object at 0x000001E3D84DC700>, 3)) (S,(<__main__.Node object at 0x000001E3D84DC880>, 4)) (B,(<__main__.Node object at 0x000001E3D84DC700>, -2)) \n",
      "\n"
     ]
    }
   ],
   "source": [
    "print(G)"
   ]
  },
  {
   "cell_type": "markdown",
   "id": "0ed62d3b",
   "metadata": {},
   "source": [
    "***"
   ]
  },
  {
   "cell_type": "markdown",
   "id": "94392ed1",
   "metadata": {},
   "source": [
    "### Section 2: Dijkstra Algorithm"
   ]
  },
  {
   "cell_type": "code",
   "execution_count": 11,
   "id": "b4d19469",
   "metadata": {},
   "outputs": [
    {
     "data": {
      "text/plain": [
       "3"
      ]
     },
     "execution_count": 11,
     "metadata": {},
     "output_type": "execute_result"
    }
   ],
   "source": [
    "len(G.vertices)"
   ]
  },
  {
   "cell_type": "code",
   "execution_count": 12,
   "id": "4df8a7a1",
   "metadata": {},
   "outputs": [],
   "source": [
    "def dijkstra(w, G):\n",
    "    \n",
    "    for v in G.vertices:\n",
    "        v.estD = math.inf\n",
    "        \n",
    "    w.estD = 0\n",
    "    unsureVertices = G.vertices[:]\n",
    "    \n",
    "    sureVertices = []\n",
    "    \n",
    "    while len(unsureVertices) > 0:\n",
    "    \n",
    "        # find the u with the minimum estD in the dumbest way possible\n",
    "        u = None\n",
    "        minD = math.inf\n",
    "        for x in unsureVertices:\n",
    "            if x.estD < minD:\n",
    "                minD = x.estD\n",
    "                u = x\n",
    "        \n",
    "        if u == None:\n",
    "            # then there is nothing more that I can reach\n",
    "            return\n",
    "        \n",
    "        # update u's neighbors\n",
    "        for v, wt in u.getOutNeighborsWithWeights():\n",
    "            \n",
    "            if v in sureVertices:\n",
    "                continue\n",
    "            \n",
    "            if u.estD + wt < v.estD:\n",
    "                v.estD = u.estD + wt\n",
    "        \n",
    "        unsureVertices.remove(u)\n",
    "        sureVertices.append(u)\n",
    "    \n",
    "    # that's it!  Now each vertex holds estD which is its distance from w"
   ]
  },
  {
   "cell_type": "code",
   "execution_count": 13,
   "id": "5bffc218",
   "metadata": {},
   "outputs": [
    {
     "name": "stdout",
     "output_type": "stream",
     "text": [
      "S 0\n",
      "A 3\n",
      "B 4\n"
     ]
    }
   ],
   "source": [
    "w = G.vertices[0]\n",
    "dijkstra(w, G)\n",
    "\n",
    "for v in G.vertices:\n",
    "    print(v.value, v.estD)"
   ]
  },
  {
   "cell_type": "markdown",
   "id": "0022f18f",
   "metadata": {},
   "source": [
    "***"
   ]
  },
  {
   "cell_type": "markdown",
   "id": "authorized-brook",
   "metadata": {},
   "source": [
    "## <font color='red'> Activity 1: Code Reflections. </font>"
   ]
  },
  {
   "cell_type": "code",
   "execution_count": 14,
   "id": "d7973076",
   "metadata": {},
   "outputs": [],
   "source": [
    "def dijkstra_parent(w, G):\n",
    "    \n",
    "    for v in G.vertices:\n",
    "        v.estD = math.inf\n",
    "        \n",
    "    w.estD = 0\n",
    "    unsureVertices = G.vertices[:]\n",
    "    \n",
    "    sureVertices = []\n",
    "    \n",
    "    while len(unsureVertices) > 0:\n",
    "    \n",
    "        # find the u with the minimum estD in the dumbest way possible\n",
    "        u = None\n",
    "        minD = math.inf\n",
    "        for x in unsureVertices:\n",
    "            if x.estD < minD:\n",
    "                minD = x.estD\n",
    "                u = x\n",
    "        \n",
    "        if u == None:\n",
    "            # then there is nothing more that I can reach\n",
    "            return\n",
    "        \n",
    "        # update u's neighbors\n",
    "        for v, wt in u.getOutNeighborsWithWeights():\n",
    "            \n",
    "            if v in sureVertices:\n",
    "                continue\n",
    "            \n",
    "            if u.estD + wt < v.estD:\n",
    "                v.estD = u.estD + wt\n",
    "                v.parent = u # added to make ease of tracing route for shortest path\n",
    "        unsureVertices.remove(u)\n",
    "        sureVertices.append(u)\n",
    "    \n",
    "    # that's it!  Now each vertex holds estD which is its distance from w"
   ]
  },
  {
   "cell_type": "code",
   "execution_count": 15,
   "id": "9bc865e4",
   "metadata": {},
   "outputs": [],
   "source": [
    "    def print_dijkstra_shortestPaths(src, G):\n",
    "        dijkstra_parent(src, G)\n",
    "        # okay, now what are all the shortest paths?\n",
    "        for vertex in G.vertices:\n",
    "            shortest_path = []\n",
    "            current_node = vertex\n",
    "            while current_node != src:\n",
    "                shortest_path.append(current_node) \n",
    "                current_node = current_node.parent # next in line is selected as current node before choosing the shortest path from here and updating the shortest_path array\n",
    "            shortest_path.append(current_node) #ONCE TRUE FINAL current node is appended\n",
    "            shortest_path.reverse() # reverse list to show shortest path\n",
    "            print([str(node) for node in shortest_path]) #PRINT ALL NODES IN LIST\n"
   ]
  },
  {
   "cell_type": "code",
   "execution_count": 16,
   "id": "c48980ba",
   "metadata": {},
   "outputs": [
    {
     "name": "stdout",
     "output_type": "stream",
     "text": [
      "['S']\n",
      "['S', 'A']\n",
      "['S', 'B']\n"
     ]
    }
   ],
   "source": [
    "print_dijkstra_shortestPaths(w, G)"
   ]
  },
  {
   "cell_type": "code",
   "execution_count": null,
   "id": "98ca0b07",
   "metadata": {},
   "outputs": [],
   "source": []
  },
  {
   "cell_type": "markdown",
   "id": "f9b31a04",
   "metadata": {},
   "source": [
    "### <font color='red'> Activity 2: Modify above code to do Bellman-Ford. Make sure you test for negative cycles and compare its performance with Dijkstra. </font>"
   ]
  },
  {
   "cell_type": "code",
   "execution_count": 17,
   "id": "8d176b03",
   "metadata": {},
   "outputs": [],
   "source": [
    "#### TODO ####\n",
    "### Good Luck ###\n",
    "\n",
    "\n",
    "\n",
    "\n",
    "def dijkstra(w, G):\n",
    "    \n",
    "    for v in G.vertices:\n",
    "        v.estD = math.inf   #initialise to infinity\n",
    "        \n",
    "    w.estD = 0\n",
    "    unsureVertices = G.vertices[:]\n",
    "    \n",
    "    sureVertices = []\n",
    "    \n",
    "    while len(unsureVertices) > 0:\n",
    "    \n",
    "        # find the u with the minimum estD in the dumbest way possible\n",
    "        u = None\n",
    "        minD = math.inf\n",
    "        for x in unsureVertices:\n",
    "            if x.estD < minD:\n",
    "                minD = x.estD\n",
    "                u = x\n",
    "        \n",
    "        if u == None:\n",
    "            # then there is nothing more that I can reach\n",
    "            return\n",
    "        \n",
    "        # update u's neighbors\n",
    "        for v, wt in u.getOutNeighborsWithWeights():\n",
    "            \n",
    "            if v in sureVertices:\n",
    "                continue\n",
    "            \n",
    "            if u.estD + wt < v.estD:\n",
    "                v.estD = u.estD + wt\n",
    "        \n",
    "        unsureVertices.remove(u)\n",
    "        sureVertices.append(u)\n",
    "    \n",
    "    # that's it!  Now each vertex holds estD which is its distance from w\n",
    "\n",
    "\n"
   ]
  },
  {
   "cell_type": "code",
   "execution_count": 18,
   "id": "cbd233fe",
   "metadata": {},
   "outputs": [],
   "source": [
    "### geeks for geeks example\n",
    "\n",
    "#     def BellmanFord(self, src):\n",
    " \n",
    "#         # Step 1: Initialize distances from src to all other vertices\n",
    "#         # as INFINITE\n",
    "#         dist = [float(\"Inf\")] * self.V\n",
    "#         dist[src] = 0\n",
    " \n",
    "#         # Step 2: Relax all edges |V| - 1 times. A simple shortest\n",
    "#         # path from src to any other vertex can have at-most |V| - 1\n",
    "#         # edges\n",
    "#         for _ in range(self.V - 1):\n",
    "#             # Update dist value and parent index of the adjacent vertices of\n",
    "#             # the picked vertex. Consider only those vertices which are still in\n",
    "#             # queue\n",
    "#             for u, v, w in self.graph:\n",
    "#                 if dist[u] != float(\"Inf\") and dist[u] + w < dist[v]:\n",
    "#                     dist[v] = dist[u] + w\n",
    " \n",
    "#         # Step 3: check for negative-weight cycles. The above step\n",
    "#         # guarantees shortest distances if graph doesn't contain\n",
    "#         # negative weight cycle. If we get a shorter path, then there\n",
    "#         # is a cycle.\n",
    " \n",
    "#         for u, v, w in self.graph:\n",
    "#             if dist[u] != float(\"Inf\") and dist[u] + w < dist[v]:\n",
    "#                 print(\"Graph contains negative weight cycle\")\n",
    "#                 return\n",
    " \n",
    "#         # print all distance\n",
    "#         self.printArr(dist)"
   ]
  },
  {
   "cell_type": "code",
   "execution_count": 19,
   "id": "504e9574",
   "metadata": {},
   "outputs": [
    {
     "name": "stdout",
     "output_type": "stream",
     "text": [
      "Graph with:\n",
      "\t Vertices:\n",
      "\tS,E,A,D,B,C,\n",
      "\t Edges:\n",
      "\t(S,(<__main__.Node object at 0x000001E3D84DCBB0>, 8)) (S,(<__main__.Node object at 0x000001E3D84DC3D0>, 10)) (E,(<__main__.Node object at 0x000001E3D84DCDF0>, 1)) (A,(<__main__.Node object at 0x000001E3D84DC460>, 2)) (D,(<__main__.Node object at 0x000001E3D84DC3D0>, -41)) (D,(<__main__.Node object at 0x000001E3D84DC460>, -12)) (B,(<__main__.Node object at 0x000001E3D84DC3D0>, 1)) (C,(<__main__.Node object at 0x000001E3D84DCD00>, -22)) \n",
      "\n"
     ]
    }
   ],
   "source": [
    "G = Graph()\n",
    "#for i in ['0', '1', '2', '3', '4', '5']:\n",
    "for i in ['S', 'E', 'A', 'D', 'B', 'C']:\n",
    "    G.addVertex( Node(i) )\n",
    "\n",
    "V = G.vertices\n",
    "\n",
    "#dot.edge('S', 'E')\n",
    "G.addDiEdge( V[0], V[1], 8)\n",
    "\n",
    "#dot.edge('S', 'A')\n",
    "G.addDiEdge( V[0], V[2] , 10)\n",
    "\n",
    "#dot.edge('E', 'D')\n",
    "G.addDiEdge( V[1], V[3], 1)\n",
    "\n",
    "#dot.edge('D', 'A')\n",
    "G.addDiEdge( V[3], V[2], -41)\n",
    "\n",
    "#dot.edge('A', 'C')\n",
    "G.addDiEdge( V[2], V[5], 2)\n",
    "\n",
    "#dot.edge('B', 'A')\n",
    "G.addDiEdge( V[4], V[2], 1 )\n",
    "\n",
    "#dot.edge('D', 'C')\n",
    "G.addDiEdge( V[3], V[5], -12)\n",
    "\n",
    "#dot.edge('C', 'B')\n",
    "G.addDiEdge( V[5], V[4], -22 )\n",
    "\n",
    "print(G)"
   ]
  },
  {
   "cell_type": "code",
   "execution_count": 20,
   "id": "8afd817b",
   "metadata": {},
   "outputs": [],
   "source": [
    "def Bellman_Ford(src, Graph):\n",
    "    negative_cycle = False\n",
    "\n",
    "    for Vertex in Graph.vertices:\n",
    "        Vertex.estD = math.inf  # Step 1 Initialise\n",
    "\n",
    "    src.estD = 0  # Step 2 - set src node distance to 0\n",
    "    for i in range(len(Graph.vertices)):\n",
    "        for Node in Graph.vertices: #length of vertices interated through with keyword node\n",
    "            # update u's neighbors\n",
    "            for Vertex, weight in Node.getOutNeighborsWithWeights():\n",
    "                if Vertex.estD > Node.estD + weight:  # step 3 - relax each edge\n",
    "                    Vertex.estD = Node.estD + weight\n",
    "#iterate through again to detect negative cycle\n",
    "    # Check for Negative Cycle\n",
    "    for Node in Graph.vertices:\n",
    "        for Vertex, weight in Node.getOutNeighborsWithWeights():  # Check for Negative Cycle\n",
    "            if Vertex.estD > (Node.estD + weight) and (Node != math.inf):  #negative cycle\n",
    "                negative_cycle = True # Negative cycle update to true\n",
    "                break\n",
    "\n",
    "    return negative_cycle, Node.value, \"directed to\" , Vertex.value \n"
   ]
  },
  {
   "cell_type": "code",
   "execution_count": 21,
   "id": "7d59b2e5",
   "metadata": {},
   "outputs": [
    {
     "data": {
      "text/plain": [
       "(True, 'C', 'directed to', 'B')"
      ]
     },
     "execution_count": 21,
     "metadata": {},
     "output_type": "execute_result"
    }
   ],
   "source": [
    "w = G.vertices[0]\n",
    "\n",
    "\n",
    "Bellman_Ford(w, G)\n"
   ]
  },
  {
   "cell_type": "markdown",
   "id": "cleared-claim",
   "metadata": {},
   "source": [
    "## <font color='red'> Activity 3: Have a look at the following Python's implementation of heap (priority Queues): HeapDict, and try to convert our Dijkstra's implementation to use this heap data structure instead. </font>"
   ]
  },
  {
   "cell_type": "markdown",
   "id": "7e3fffcf",
   "metadata": {},
   "source": [
    "  # This is the example given from lab\n",
    "\n",
    "def dijkstra(w, G):\n",
    "    \n",
    "    for v in G.vertices:\n",
    "        v.estD = math.inf\n",
    "        \n",
    "    w.estD = 0\n",
    "    heap[w] = 0\n",
    "    unsureVertices = G.vertices[:]\n",
    "    \n",
    "    sureVertices = []\n",
    "    \n",
    "    while len(unsureVertices) > 0:\n",
    "    \n",
    "        # find the u with the minimum estD in the dumbest way possible\n",
    "        u = None\n",
    "        minD = math.inf\n",
    "        for x in unsureVertices:\n",
    "            if x.estD < minD:\n",
    "                minD = x.estD\n",
    "                u = x\n",
    "        \n",
    "        if u == None:\n",
    "            # then there is nothing more that I can reach\n",
    "            return\n",
    "        \n",
    "        # update u's neighbors\n",
    "        for v, wt in u.getOutNeighborsWithWeights():\n",
    "            \n",
    "            if v in sureVertices:\n",
    "                continue\n",
    "            \n",
    "            if u.estD + wt < v.estD:\n",
    "                v.estD = u.estD + wt\n",
    "        \n",
    "        unsureVertices.remove(u)\n",
    "        sureVertices.append(u)\n",
    "    \n",
    "    # that's it!  Now each vertex holds estD which is its distance from w\n",
    "    \n",
    "  "
   ]
  },
  {
   "cell_type": "markdown",
   "id": "acf507e7",
   "metadata": {},
   "source": [
    "# Create Graph"
   ]
  },
  {
   "cell_type": "code",
   "execution_count": 22,
   "id": "ba69d1db",
   "metadata": {},
   "outputs": [
    {
     "name": "stdout",
     "output_type": "stream",
     "text": [
      "Graph with:\n",
      "\t Vertices:\n",
      "\tS,E,A,D,B,C,\n",
      "\t Edges:\n",
      "\t(S,(<__main__.Node object at 0x000001E3D850B4F0>, 8)) (S,(<__main__.Node object at 0x000001E3D84D51F0>, 10)) (E,(<__main__.Node object at 0x000001E3D84D5CA0>, 1)) (A,(<__main__.Node object at 0x000001E3D84D5040>, 2)) (D,(<__main__.Node object at 0x000001E3D84D51F0>, 2)) (D,(<__main__.Node object at 0x000001E3D84D5040>, 8)) (B,(<__main__.Node object at 0x000001E3D84D51F0>, 1)) (C,(<__main__.Node object at 0x000001E3D84D5FA0>, 4)) \n",
      "\n"
     ]
    }
   ],
   "source": [
    "G = Graph()\n",
    "#for i in ['0', '1', '2', '3', '4', '5']:\n",
    "for i in ['S', 'E', 'A', 'D', 'B', 'C']:\n",
    "    G.addVertex( Node(i) )\n",
    "\n",
    "V = G.vertices\n",
    "\n",
    "#dot.edge('S', 'E')\n",
    "G.addDiEdge( V[0], V[1], 8)\n",
    "\n",
    "#dot.edge('S', 'A')\n",
    "G.addDiEdge( V[0], V[2] , 10)\n",
    "\n",
    "#dot.edge('E', 'D')\n",
    "G.addDiEdge( V[1], V[3], 1)\n",
    "\n",
    "#dot.edge('D', 'A')\n",
    "G.addDiEdge( V[3], V[2], 2)\n",
    "\n",
    "#dot.edge('A', 'C')\n",
    "G.addDiEdge( V[2], V[5], 2)\n",
    "\n",
    "#dot.edge('B', 'A')\n",
    "G.addDiEdge( V[4], V[2], 1 )\n",
    "\n",
    "#dot.edge('D', 'C')\n",
    "G.addDiEdge( V[3], V[5], 8)\n",
    "\n",
    "#dot.edge('C', 'B')\n",
    "G.addDiEdge( V[5], V[4], 4 )\n",
    "\n",
    "print(G)"
   ]
  },
  {
   "cell_type": "code",
   "execution_count": 23,
   "id": "bdda5c44",
   "metadata": {},
   "outputs": [
    {
     "name": "stdout",
     "output_type": "stream",
     "text": [
      "Graph with:\n",
      "\t Vertices:\n",
      "\tS,E,A,D,B,C,\n",
      "\t Edges:\n",
      "\t(S,(<__main__.Node object at 0x000001E3D850B4F0>, 8)) (S,(<__main__.Node object at 0x000001E3D84D51F0>, 10)) (E,(<__main__.Node object at 0x000001E3D84D5CA0>, 1)) (A,(<__main__.Node object at 0x000001E3D84D5040>, 2)) (D,(<__main__.Node object at 0x000001E3D84D51F0>, 2)) (D,(<__main__.Node object at 0x000001E3D84D5040>, 8)) (B,(<__main__.Node object at 0x000001E3D84D51F0>, 1)) (C,(<__main__.Node object at 0x000001E3D84D5FA0>, 4)) \n",
      "\n"
     ]
    }
   ],
   "source": [
    "print(G)"
   ]
  },
  {
   "cell_type": "markdown",
   "id": "4bee9602",
   "metadata": {},
   "source": [
    "## Implemented the dijstra algortithm with a heap"
   ]
  },
  {
   "cell_type": "code",
   "execution_count": 24,
   "id": "73fd268f",
   "metadata": {},
   "outputs": [],
   "source": [
    "import heapdict as hd"
   ]
  },
  {
   "cell_type": "code",
   "execution_count": 25,
   "id": "personal-bernard",
   "metadata": {},
   "outputs": [],
   "source": [
    "# now let's try this with a heap\n",
    "def dijkstraheap(src, G):\n",
    "    for vertex in G.vertices: \n",
    "        vertex.estD = math.inf # Step 1 Initialise\n",
    "    src.estD = 0# Step 2 - set src node distance to 0\n",
    "    heap = hd.heapdict()  #convert unsure vertices to heapdict named 'heap'\n",
    "    for vertex in G.vertices:\n",
    "        heap[vertex] = vertex.estD\n",
    "    while len(heap) > 0:\n",
    "        # find the u with the minimum estD, using the heap\n",
    "        node, dist = heap.popitem()\n",
    "        if node.estD == math.inf:\n",
    "            # then there is nothing more that I can reach\n",
    "            return\n",
    "        # update u's neighbors\n",
    "        for vertex,weight in node.getOutNeighborsWithWeights():\n",
    "            if node.estD + weight < vertex.estD:\n",
    "                vertex.estD = node.estD + weight \n",
    "                heap[vertex] = node.estD + weight #update the VALUE FOR SPECIFIC VERTEX key in the heapdict\n",
    "                vertex.parent = node # keep track of the visits and update the nodes locally with their calculated parent for shortest path\n",
    "    # that's it!  Now each vertex holds estD which is its distance from w\n",
    "    \n",
    "    #NODE POINTS TO VERTEX"
   ]
  },
  {
   "cell_type": "code",
   "execution_count": 26,
   "id": "88565913",
   "metadata": {},
   "outputs": [],
   "source": [
    "def print_dijstraheap_shortestpaths(src, G):\n",
    "    dijkstraheap(src, G)\n",
    "    # okay, now what are all the shortest paths?\n",
    "    for vertex in G.vertices:\n",
    "        if vertex.estD == math.inf:\n",
    "            print(\"Cannot reach \" + str(vertex))\n",
    "            continue\n",
    "        route = []\n",
    "        current_node = vertex\n",
    "        while current_node != src:\n",
    "            route.append(current_node)\n",
    "            current_node = current_node.parent\n",
    "        route.append(current_node)\n",
    "        route.reverse()\n",
    "        print([str(x) for x in route])"
   ]
  },
  {
   "cell_type": "code",
   "execution_count": 27,
   "id": "e875b700",
   "metadata": {},
   "outputs": [
    {
     "name": "stdout",
     "output_type": "stream",
     "text": [
      "S 0\n",
      "E 8\n",
      "A 10\n",
      "D 9\n",
      "B 16\n",
      "C 12\n"
     ]
    }
   ],
   "source": [
    "w = G.vertices[0]\n",
    "dijkstra(w, G)\n",
    "\n",
    "for v in G.vertices:\n",
    "    print(v.value, v.estD)"
   ]
  },
  {
   "cell_type": "code",
   "execution_count": 28,
   "id": "5380d887",
   "metadata": {},
   "outputs": [
    {
     "name": "stdout",
     "output_type": "stream",
     "text": [
      "['S']\n",
      "['S', 'E']\n",
      "['S', 'A']\n",
      "['S', 'E', 'D']\n",
      "['S', 'A', 'C', 'B']\n",
      "['S', 'A', 'C']\n"
     ]
    }
   ],
   "source": [
    "print_dijstraheap_shortestpaths(w,G)\n"
   ]
  },
  {
   "cell_type": "code",
   "execution_count": 29,
   "id": "2946873f",
   "metadata": {},
   "outputs": [
    {
     "name": "stdout",
     "output_type": "stream",
     "text": [
      "['S']\n",
      "['S', 'E']\n",
      "['S', 'A']\n",
      "['S', 'E', 'D']\n",
      "['S', 'A', 'C', 'B']\n",
      "['S', 'A', 'C']\n"
     ]
    }
   ],
   "source": [
    "print_dijkstra_shortestPaths(w, G)"
   ]
  },
  {
   "cell_type": "code",
   "execution_count": 30,
   "id": "4ee7393f",
   "metadata": {},
   "outputs": [
    {
     "data": {
      "image/svg+xml": [
       "<?xml version=\"1.0\" encoding=\"UTF-8\" standalone=\"no\"?>\n",
       "<!DOCTYPE svg PUBLIC \"-//W3C//DTD SVG 1.1//EN\"\n",
       " \"http://www.w3.org/Graphics/SVG/1.1/DTD/svg11.dtd\">\n",
       "<!-- Generated by graphviz version 2.50.0 (0)\n",
       " -->\n",
       "<!-- Pages: 1 -->\n",
       "<svg width=\"117pt\" height=\"404pt\"\n",
       " viewBox=\"0.00 0.00 117.00 404.00\" xmlns=\"http://www.w3.org/2000/svg\" xmlns:xlink=\"http://www.w3.org/1999/xlink\">\n",
       "<g id=\"graph0\" class=\"graph\" transform=\"scale(1 1) rotate(0) translate(4 400)\">\n",
       "<polygon fill=\"white\" stroke=\"transparent\" points=\"-4,4 -4,-400 113,-400 113,4 -4,4\"/>\n",
       "<!-- S -->\n",
       "<g id=\"node1\" class=\"node\">\n",
       "<title>S</title>\n",
       "<ellipse fill=\"none\" stroke=\"black\" cx=\"54\" cy=\"-378\" rx=\"27\" ry=\"18\"/>\n",
       "<text text-anchor=\"middle\" x=\"54\" y=\"-374.3\" font-family=\"Times New Roman,serif\" font-size=\"14.00\">S</text>\n",
       "</g>\n",
       "<!-- E -->\n",
       "<g id=\"node2\" class=\"node\">\n",
       "<title>E</title>\n",
       "<ellipse fill=\"none\" stroke=\"black\" cx=\"27\" cy=\"-306\" rx=\"27\" ry=\"18\"/>\n",
       "<text text-anchor=\"middle\" x=\"27\" y=\"-302.3\" font-family=\"Times New Roman,serif\" font-size=\"14.00\">E</text>\n",
       "</g>\n",
       "<!-- S&#45;&gt;E -->\n",
       "<g id=\"edge1\" class=\"edge\">\n",
       "<title>S&#45;&gt;E</title>\n",
       "<path fill=\"none\" stroke=\"black\" d=\"M47.6,-360.41C44.49,-352.34 40.67,-342.43 37.17,-333.35\"/>\n",
       "<polygon fill=\"black\" stroke=\"black\" points=\"40.4,-332.03 33.54,-323.96 33.87,-334.55 40.4,-332.03\"/>\n",
       "</g>\n",
       "<!-- A -->\n",
       "<g id=\"node3\" class=\"node\">\n",
       "<title>A</title>\n",
       "<ellipse fill=\"none\" stroke=\"black\" cx=\"82\" cy=\"-162\" rx=\"27\" ry=\"18\"/>\n",
       "<text text-anchor=\"middle\" x=\"82\" y=\"-158.3\" font-family=\"Times New Roman,serif\" font-size=\"14.00\">A</text>\n",
       "</g>\n",
       "<!-- S&#45;&gt;A -->\n",
       "<g id=\"edge2\" class=\"edge\">\n",
       "<title>S&#45;&gt;A</title>\n",
       "<path fill=\"none\" stroke=\"black\" d=\"M57.14,-359.85C58.98,-349.49 61.27,-336.01 63,-324 69.73,-277.2 75.81,-222.48 79.19,-190.4\"/>\n",
       "<polygon fill=\"black\" stroke=\"black\" points=\"82.68,-190.74 80.24,-180.43 75.72,-190.01 82.68,-190.74\"/>\n",
       "</g>\n",
       "<!-- D -->\n",
       "<g id=\"node4\" class=\"node\">\n",
       "<title>D</title>\n",
       "<ellipse fill=\"none\" stroke=\"black\" cx=\"27\" cy=\"-234\" rx=\"27\" ry=\"18\"/>\n",
       "<text text-anchor=\"middle\" x=\"27\" y=\"-230.3\" font-family=\"Times New Roman,serif\" font-size=\"14.00\">D</text>\n",
       "</g>\n",
       "<!-- E&#45;&gt;D -->\n",
       "<g id=\"edge3\" class=\"edge\">\n",
       "<title>E&#45;&gt;D</title>\n",
       "<path fill=\"none\" stroke=\"black\" d=\"M27,-287.7C27,-279.98 27,-270.71 27,-262.11\"/>\n",
       "<polygon fill=\"black\" stroke=\"black\" points=\"30.5,-262.1 27,-252.1 23.5,-262.1 30.5,-262.1\"/>\n",
       "</g>\n",
       "<!-- C -->\n",
       "<g id=\"node5\" class=\"node\">\n",
       "<title>C</title>\n",
       "<ellipse fill=\"none\" stroke=\"black\" cx=\"27\" cy=\"-90\" rx=\"27\" ry=\"18\"/>\n",
       "<text text-anchor=\"middle\" x=\"27\" y=\"-86.3\" font-family=\"Times New Roman,serif\" font-size=\"14.00\">C</text>\n",
       "</g>\n",
       "<!-- A&#45;&gt;C -->\n",
       "<g id=\"edge5\" class=\"edge\">\n",
       "<title>A&#45;&gt;C</title>\n",
       "<path fill=\"none\" stroke=\"black\" d=\"M70.07,-145.81C62.79,-136.55 53.34,-124.52 45.15,-114.09\"/>\n",
       "<polygon fill=\"black\" stroke=\"black\" points=\"47.84,-111.86 38.91,-106.16 42.34,-116.18 47.84,-111.86\"/>\n",
       "</g>\n",
       "<!-- D&#45;&gt;A -->\n",
       "<g id=\"edge4\" class=\"edge\">\n",
       "<title>D&#45;&gt;A</title>\n",
       "<path fill=\"none\" stroke=\"black\" d=\"M38.93,-217.81C46.21,-208.55 55.66,-196.52 63.85,-186.09\"/>\n",
       "<polygon fill=\"black\" stroke=\"black\" points=\"66.66,-188.18 70.09,-178.16 61.16,-183.86 66.66,-188.18\"/>\n",
       "</g>\n",
       "<!-- D&#45;&gt;C -->\n",
       "<g id=\"edge7\" class=\"edge\">\n",
       "<title>D&#45;&gt;C</title>\n",
       "<path fill=\"none\" stroke=\"black\" d=\"M27,-215.87C27,-191.67 27,-147.21 27,-118.39\"/>\n",
       "<polygon fill=\"black\" stroke=\"black\" points=\"30.5,-118.19 27,-108.19 23.5,-118.19 30.5,-118.19\"/>\n",
       "</g>\n",
       "<!-- B -->\n",
       "<g id=\"node6\" class=\"node\">\n",
       "<title>B</title>\n",
       "<ellipse fill=\"none\" stroke=\"black\" cx=\"54\" cy=\"-18\" rx=\"27\" ry=\"18\"/>\n",
       "<text text-anchor=\"middle\" x=\"54\" y=\"-14.3\" font-family=\"Times New Roman,serif\" font-size=\"14.00\">B</text>\n",
       "</g>\n",
       "<!-- C&#45;&gt;B -->\n",
       "<g id=\"edge8\" class=\"edge\">\n",
       "<title>C&#45;&gt;B</title>\n",
       "<path fill=\"none\" stroke=\"black\" d=\"M33.4,-72.41C36.51,-64.34 40.33,-54.43 43.83,-45.35\"/>\n",
       "<polygon fill=\"black\" stroke=\"black\" points=\"47.13,-46.55 47.46,-35.96 40.6,-44.03 47.13,-46.55\"/>\n",
       "</g>\n",
       "<!-- B&#45;&gt;A -->\n",
       "<g id=\"edge6\" class=\"edge\">\n",
       "<title>B&#45;&gt;A</title>\n",
       "<path fill=\"none\" stroke=\"black\" d=\"M57.39,-36.19C62.19,-60.53 71.01,-105.28 76.69,-134.06\"/>\n",
       "<polygon fill=\"black\" stroke=\"black\" points=\"73.25,-134.74 78.62,-143.87 80.12,-133.38 73.25,-134.74\"/>\n",
       "</g>\n",
       "</g>\n",
       "</svg>\n"
      ],
      "text/plain": [
       "<graphviz.graphs.Digraph at 0x1e3d84eb6d0>"
      ]
     },
     "execution_count": 30,
     "metadata": {},
     "output_type": "execute_result"
    }
   ],
   "source": [
    "dot = Digraph()\n",
    "\n",
    "dot.edge('S', 'E')\n",
    "dot.edge('S', 'A')\n",
    "dot.edge('E', 'D')\n",
    "dot.edge('D', 'A')\n",
    "dot.edge('A', 'C')\n",
    "dot.edge('B', 'A')\n",
    "dot.edge('D', 'C')\n",
    "dot.edge('C', 'B')\n",
    "\n",
    "#dot.view()\n",
    "dot"
   ]
  },
  {
   "cell_type": "markdown",
   "id": "9c64f77d",
   "metadata": {},
   "source": [
    "***"
   ]
  },
  {
   "cell_type": "markdown",
   "id": "a85ea894",
   "metadata": {},
   "source": [
    "### Section 4: Dynammc Programming"
   ]
  },
  {
   "cell_type": "markdown",
   "id": "7f7a5d29",
   "metadata": {},
   "source": [
    "We discussed Fibonacci numbers sequence as a good example of Dynamic Programming. Let us have a look at its computation."
   ]
  },
  {
   "cell_type": "markdown",
   "id": "ffff72e1",
   "metadata": {},
   "source": [
    "## Recursive Implementation"
   ]
  },
  {
   "cell_type": "code",
   "execution_count": 31,
   "id": "91575189",
   "metadata": {},
   "outputs": [],
   "source": [
    "def Fibonacci(n):\n",
    "    if n == 0 or n == 1:\n",
    "        return 1\n",
    "    return Fibonacci(n-1) + Fibonacci(n-2)\n",
    "                "
   ]
  },
  {
   "cell_type": "markdown",
   "id": "cf81595b",
   "metadata": {},
   "source": [
    "## Dynamic Programming (DP) Implementation"
   ]
  },
  {
   "cell_type": "code",
   "execution_count": 32,
   "id": "61aff298",
   "metadata": {},
   "outputs": [],
   "source": [
    "def fasterFibonacci(n):\n",
    "    \n",
    "    F = [1 for i in range(n+1)]\n",
    "\n",
    "    for i in range(2,n+1):\n",
    "        F[i] = F[i-1] + F[i-2]\n",
    "        \n",
    "    return F[n]"
   ]
  },
  {
   "cell_type": "code",
   "execution_count": 33,
   "id": "54f6d0fd",
   "metadata": {},
   "outputs": [
    {
     "data": {
      "text/plain": [
       "55"
      ]
     },
     "execution_count": 33,
     "metadata": {},
     "output_type": "execute_result"
    }
   ],
   "source": [
    "fasterFibonacci(9)"
   ]
  },
  {
   "cell_type": "markdown",
   "id": "4dca653b",
   "metadata": {},
   "source": [
    "## Recursive with memory"
   ]
  },
  {
   "cell_type": "code",
   "execution_count": 34,
   "id": "41e606a0",
   "metadata": {},
   "outputs": [],
   "source": [
    "def Fibonacci_topdown(n,F):\n",
    "    \n",
    "    if F[n] != None:\n",
    "        return F[n]\n",
    "    \n",
    "    F[n] = Fibonacci_topdown(n-1, F) + Fibonacci_topdown(n-2, F)\n",
    "    return F[n]"
   ]
  },
  {
   "cell_type": "markdown",
   "id": "8e71bd90",
   "metadata": {},
   "source": [
    "Have a look at above different ways to compute Fibonacci numbers. Report on their running time. Make sure you know the difference between them."
   ]
  },
  {
   "cell_type": "markdown",
   "id": "01e640cf",
   "metadata": {},
   "source": [
    "***"
   ]
  },
  {
   "cell_type": "markdown",
   "id": "caroline-debut",
   "metadata": {},
   "source": [
    "### <font color='red'> Activity 4: Write a brief report comparing 'Dynamic Programming' with 'Divide-and-Conquer' strategy? (If you are not familiar with Divide-and-Conquer strategy - revisit Quick Sort or Binary Search algorithms. You should address why we can not use DP for Quick Sort or Binary Sort). </font>"
   ]
  },
  {
   "cell_type": "markdown",
   "id": "362bbfc5",
   "metadata": {},
   "source": [
    "Divide and Conquer vs Dynamic Programming\n",
    "Divide and Conquer programming and dynamic programming are a type of algorithm and algorithm design paradigm when it comes to problem solving approaches in coding. : This algorithm design paradigm breaks a problem into sub-problems, solves a single sub-problem, and merges the solutions to get the final solution. It consists of the following three steps:\n",
    "\n",
    "1.\tDivide\n",
    "2.\tSolve recursively\n",
    "3.\tMerge\n",
    "\n",
    "Hence the Name Divide and Conquer\n",
    "In Dynamic Programming : This algorithm uses the concept of using the solution already found and saved to avoid re-computing the same part of the problem. It breaks down the problem into smaller, overlapping sub-problems and solves them via memorization and tabulation which in theory and practice reduces the amount of work needed to be done once a solution has already been found such that it uses the solution already found as opposed to starting over entirely. This paradigm should be used when the problem at hand has some kind of optimal sub-structure in meaning that one big problem consists of two smaller problems/solutions and there are overlapping problems/solutions. i.e the prior or post node in the route. Dynamic programming can be thought of as the combination of recursion and re-use memoization.\n",
    "\n",
    "The understanding of the differences between dynamic programming and divide and conquer programming can be understood once it is understood why dynamic programming cant be applied to Quick sort or Merge sort is simply that although both sorts have the element of breaking the problem into smaller sub problems it still requires that each sub problem be sorted independent of the other sub problems result before being combined as opposed to the use of a stored solution to solve another sub problem, thus instances such as dijstras and bellman-ford can be taken into consideration as examples of dynamic programming in which the divide and conquer programming paradigm doesn’t apply. So depending on the problem at hand the choice can be between dynamic programming and Divide and Conquer programming paradigms pending of the exact specifications of requirements for the solving of the problem i.e if it gas overlapping subproblems and an optimal substructure to be broken into smaller problems which the optimal soloution can derive from to give the original problem i.e a + b = c or a[saved] + b = c\n"
   ]
  },
  {
   "cell_type": "markdown",
   "id": "pleased-retail",
   "metadata": {},
   "source": [
    "### <font color='red'> Activity 5: You are running up a staircase with a total of n steps. You can hop either 1 step, 2 steps or 3 steps at at time. Write a DP program to determine how many possible ways you can run up the stairs? (Hint: Start with a recursive solution, and then later move to top-down approach of DP). </font>"
   ]
  },
  {
   "cell_type": "code",
   "execution_count": 35,
   "id": "dried-float",
   "metadata": {},
   "outputs": [],
   "source": [
    "### TODO ###\n",
    "### Good Luck ###\n",
    "\n",
    "def Fibonacci(n):\n",
    "    if n == 0 or n == 1:\n",
    "        return 1\n",
    "    return Fibonacci(n-1) + Fibonacci(n-2)\n",
    "                \n",
    "\n",
    "\n",
    "\n"
   ]
  },
  {
   "cell_type": "code",
   "execution_count": 36,
   "id": "49a4e01e",
   "metadata": {},
   "outputs": [
    {
     "data": {
      "text/plain": [
       "149"
      ]
     },
     "execution_count": 36,
     "metadata": {},
     "output_type": "execute_result"
    }
   ],
   "source": [
    "def staircase_run_solver(steps):\n",
    "    if steps == 0 or steps == 1:\n",
    "        return 1\n",
    "    elif steps == 2:\n",
    "        return 2\n",
    "    else:\n",
    "        return staircase_run_solver(steps - 3) + staircase_run_solver(steps - 2) + staircase_run_solver(steps - 1)\n",
    "\n",
    "staircase_run_solver(9)"
   ]
  },
  {
   "cell_type": "markdown",
   "id": "ebd772d0",
   "metadata": {},
   "source": [
    "### <font color='red'> Activity 6: Implement Floyd-Warshal algorithm using above data structure (that is Node and Graph). Make sure to test all the use-cases. </font>"
   ]
  },
  {
   "cell_type": "code",
   "execution_count": 37,
   "id": "2265f13f",
   "metadata": {},
   "outputs": [],
   "source": [
    "def floyd_warshall(Graph):\n",
    "    total_vertices = len(Graph.vertices)\n",
    "    distance = [[np.inf for _ in range(total_vertices)] for _ in range(total_vertices)]\n",
    "    for i in range(total_vertices):\n",
    "        distance[i][i] = 0\n",
    "\n",
    "    for vertex in Graph.vertices:\n",
    "        for outneigh, weight in vertex.getOutNeighborsWithWeights():\n",
    "            distance[Graph.vertices.index(vertex)][Graph.vertices.index(outneigh)] = weight\n",
    "\n",
    "    for k in range(total_vertices):\n",
    "        for i in range(total_vertices):  # i = row\n",
    "            for j in range(total_vertices):  # j = col\n",
    "                distance[i][j] = min(distance[i][j], distance[i][k] + distance[k][j])\n",
    "\n",
    "    return distance\n"
   ]
  },
  {
   "cell_type": "code",
   "execution_count": 38,
   "id": "a17289fc",
   "metadata": {},
   "outputs": [
    {
     "name": "stdout",
     "output_type": "stream",
     "text": [
      "[[0, 8, 10, 9, 16, 12], [inf, 0, 3, 1, 9, 5], [inf, inf, 0, inf, 6, 2], [inf, inf, 2, 0, 8, 4], [inf, inf, 1, inf, 0, 3], [inf, inf, 5, inf, 4, 0]]\n"
     ]
    }
   ],
   "source": [
    "x = floyd_warshall(G)\n",
    "print(x)"
   ]
  },
  {
   "cell_type": "markdown",
   "id": "e143dc12",
   "metadata": {},
   "source": [
    "***"
   ]
  },
  {
   "cell_type": "markdown",
   "id": "79cfe7ab",
   "metadata": {},
   "source": [
    "***"
   ]
  },
  {
   "cell_type": "code",
   "execution_count": null,
   "id": "31ff86c0",
   "metadata": {},
   "outputs": [],
   "source": []
  },
  {
   "cell_type": "code",
   "execution_count": null,
   "id": "dbf79a14",
   "metadata": {},
   "outputs": [],
   "source": []
  }
 ],
 "metadata": {
  "kernelspec": {
   "display_name": "Python 3 (ipykernel)",
   "language": "python",
   "name": "python3"
  },
  "language_info": {
   "codemirror_mode": {
    "name": "ipython",
    "version": 3
   },
   "file_extension": ".py",
   "mimetype": "text/x-python",
   "name": "python",
   "nbconvert_exporter": "python",
   "pygments_lexer": "ipython3",
   "version": "3.9.7"
  }
 },
 "nbformat": 4,
 "nbformat_minor": 5
}
